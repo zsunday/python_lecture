{
 "cells": [
  {
   "cell_type": "code",
   "execution_count": 1,
   "id": "3520f33e",
   "metadata": {
    "ExecuteTime": {
     "end_time": "2021-05-25T02:28:11.577627Z",
     "start_time": "2021-05-25T02:28:11.560978Z"
    }
   },
   "outputs": [
    {
     "name": "stdout",
     "output_type": "stream",
     "text": [
      "Welcome to everyone!!\n",
      "Welcome to everyone!!\n",
      "Welcome to everyone!!\n",
      "Welcome to everyone!!\n",
      "Welcome to everyone!!\n"
     ]
    }
   ],
   "source": [
    "for i in range(5):\n",
    "    print('Welcome to everyone!!')"
   ]
  },
  {
   "cell_type": "code",
   "execution_count": 2,
   "id": "13a2826b",
   "metadata": {
    "ExecuteTime": {
     "end_time": "2021-05-25T02:28:39.849855Z",
     "start_time": "2021-05-25T02:28:39.841878Z"
    }
   },
   "outputs": [
    {
     "name": "stdout",
     "output_type": "stream",
     "text": [
      "Welcome to everyone!!\n",
      "Welcome to everyone!!\n",
      "Welcome to everyone!!\n",
      "Welcome to everyone!!\n",
      "Welcome to everyone!!\n"
     ]
    }
   ],
   "source": [
    "i=0\n",
    "while i<5:\n",
    "    print('Welcome to everyone!!')\n",
    "    i+=1"
   ]
  },
  {
   "cell_type": "code",
   "execution_count": 3,
   "id": "e7e3b9f8",
   "metadata": {
    "ExecuteTime": {
     "end_time": "2021-05-25T02:53:50.547312Z",
     "start_time": "2021-05-25T02:53:45.841117Z"
    }
   },
   "outputs": [
    {
     "name": "stdout",
     "output_type": "stream",
     "text": [
      "가위, 바위, 보 중에서 선택하세요>가위\n",
      "선택한 값은: 가위\n"
     ]
    }
   ],
   "source": [
    "selected=None\n",
    "while selected not in ['가위','바위','보']:\n",
    "    selected=input('가위, 바위, 보 중에서 선택하세요>')\n",
    "    print('선택한 값은:',selected)"
   ]
  },
  {
   "cell_type": "code",
   "execution_count": null,
   "id": "e85c433a",
   "metadata": {
    "ExecuteTime": {
     "start_time": "2021-05-25T03:06:32.014Z"
    }
   },
   "outputs": [],
   "source": [
    "n=int(input('합계를 구할 양의 정수를 입력하세요:'))\n",
    "s=0\n",
    "\n",
    "for i in range(1,n+1):\n",
    "    s=s+i\n",
    "    \n",
    "print('1부터 {}까지의 합은 {}', format(n,s))\n",
    "print('1부터',n, '까지의 합은' ,s)\n",
    "print(f'1부터 {n} 까지의 합은 {s}' )"
   ]
  },
  {
   "cell_type": "code",
   "execution_count": null,
   "id": "2e0a221b",
   "metadata": {},
   "outputs": [],
   "source": []
  }
 ],
 "metadata": {
  "hide_input": false,
  "kernelspec": {
   "display_name": "Python 3",
   "language": "python",
   "name": "python3"
  },
  "language_info": {
   "codemirror_mode": {
    "name": "ipython",
    "version": 3
   },
   "file_extension": ".py",
   "mimetype": "text/x-python",
   "name": "python",
   "nbconvert_exporter": "python",
   "pygments_lexer": "ipython3",
   "version": "3.7.9"
  },
  "toc": {
   "base_numbering": 1,
   "nav_menu": {},
   "number_sections": true,
   "sideBar": true,
   "skip_h1_title": false,
   "title_cell": "Table of Contents",
   "title_sidebar": "Contents",
   "toc_cell": false,
   "toc_position": {},
   "toc_section_display": true,
   "toc_window_display": false
  },
  "varInspector": {
   "cols": {
    "lenName": 16,
    "lenType": 16,
    "lenVar": 40
   },
   "kernels_config": {
    "python": {
     "delete_cmd_postfix": "",
     "delete_cmd_prefix": "del ",
     "library": "var_list.py",
     "varRefreshCmd": "print(var_dic_list())"
    },
    "r": {
     "delete_cmd_postfix": ") ",
     "delete_cmd_prefix": "rm(",
     "library": "var_list.r",
     "varRefreshCmd": "cat(var_dic_list()) "
    }
   },
   "types_to_exclude": [
    "module",
    "function",
    "builtin_function_or_method",
    "instance",
    "_Feature"
   ],
   "window_display": false
  }
 },
 "nbformat": 4,
 "nbformat_minor": 5
}
