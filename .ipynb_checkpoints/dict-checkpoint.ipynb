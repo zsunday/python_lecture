{
 "cells": [
  {
   "cell_type": "markdown",
   "id": "8acac73d",
   "metadata": {},
   "source": [
    "# 딕셔너리 자료형\n",
    "\n",
    "다음 딕셔너리 예를 살펴보자.\n",
    "\n",
    "```\n",
    ">>> dic = {'name':'pey', 'phone':'0119993323', 'birth': '1118'}\n",
    "```"
   ]
  },
  {
   "cell_type": "code",
   "execution_count": 1,
   "id": "94fc0eb9",
   "metadata": {
    "ExecuteTime": {
     "end_time": "2021-05-26T02:59:29.956170Z",
     "start_time": "2021-05-26T02:59:29.932029Z"
    }
   },
   "outputs": [
    {
     "data": {
      "text/plain": [
       "2"
      ]
     },
     "execution_count": 1,
     "metadata": {},
     "output_type": "execute_result"
    }
   ],
   "source": [
    "a={'a':1,'b':2}\n",
    "len(a)"
   ]
  },
  {
   "cell_type": "code",
   "execution_count": 2,
   "id": "4a102469",
   "metadata": {
    "ExecuteTime": {
     "end_time": "2021-05-26T02:59:54.024726Z",
     "start_time": "2021-05-26T02:59:54.006775Z"
    }
   },
   "outputs": [
    {
     "data": {
      "text/plain": [
       "1"
      ]
     },
     "execution_count": 2,
     "metadata": {},
     "output_type": "execute_result"
    }
   ],
   "source": [
    "a['a']"
   ]
  },
  {
   "cell_type": "code",
   "execution_count": 4,
   "id": "0da8c604",
   "metadata": {
    "ExecuteTime": {
     "end_time": "2021-05-26T03:03:48.532406Z",
     "start_time": "2021-05-26T03:03:48.525427Z"
    }
   },
   "outputs": [
    {
     "data": {
      "text/plain": [
       "{'a': 1, 'b': 123132}"
      ]
     },
     "execution_count": 4,
     "metadata": {},
     "output_type": "execute_result"
    }
   ],
   "source": [
    "a[\"b\"]=123132\n",
    "a"
   ]
  },
  {
   "cell_type": "code",
   "execution_count": 17,
   "id": "ad65e196",
   "metadata": {
    "ExecuteTime": {
     "end_time": "2021-05-26T04:55:05.062243Z",
     "start_time": "2021-05-26T04:55:05.051273Z"
    }
   },
   "outputs": [],
   "source": [
    "a={1: 'a',2:'b','name':'pey',3:[1,2,3]}\n",
    "list_a=a.keys()\n",
    "list_b=a.values()\n"
   ]
  },
  {
   "cell_type": "code",
   "execution_count": null,
   "id": "fdaf392a",
   "metadata": {},
   "outputs": [],
   "source": []
  }
 ],
 "metadata": {
  "hide_input": false,
  "kernelspec": {
   "display_name": "Python 3",
   "language": "python",
   "name": "python3"
  },
  "language_info": {
   "codemirror_mode": {
    "name": "ipython",
    "version": 3
   },
   "file_extension": ".py",
   "mimetype": "text/x-python",
   "name": "python",
   "nbconvert_exporter": "python",
   "pygments_lexer": "ipython3",
   "version": "3.7.9"
  },
  "toc": {
   "base_numbering": 1,
   "nav_menu": {},
   "number_sections": true,
   "sideBar": true,
   "skip_h1_title": false,
   "title_cell": "Table of Contents",
   "title_sidebar": "Contents",
   "toc_cell": false,
   "toc_position": {},
   "toc_section_display": true,
   "toc_window_display": false
  },
  "varInspector": {
   "cols": {
    "lenName": 16,
    "lenType": 16,
    "lenVar": 40
   },
   "kernels_config": {
    "python": {
     "delete_cmd_postfix": "",
     "delete_cmd_prefix": "del ",
     "library": "var_list.py",
     "varRefreshCmd": "print(var_dic_list())"
    },
    "r": {
     "delete_cmd_postfix": ") ",
     "delete_cmd_prefix": "rm(",
     "library": "var_list.r",
     "varRefreshCmd": "cat(var_dic_list()) "
    }
   },
   "types_to_exclude": [
    "module",
    "function",
    "builtin_function_or_method",
    "instance",
    "_Feature"
   ],
   "window_display": false
  }
 },
 "nbformat": 4,
 "nbformat_minor": 5
}
