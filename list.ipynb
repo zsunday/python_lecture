{
 "cells": [
  {
   "cell_type": "code",
   "execution_count": 2,
   "id": "fa1167c7",
   "metadata": {
    "ExecuteTime": {
     "end_time": "2021-05-26T00:27:14.184603Z",
     "start_time": "2021-05-26T00:27:14.172602Z"
    }
   },
   "outputs": [
    {
     "data": {
      "text/plain": [
       "list"
      ]
     },
     "execution_count": 2,
     "metadata": {},
     "output_type": "execute_result"
    }
   ],
   "source": [
    "even_list=[2,4,6,8,10]\n",
    "type(even_list)"
   ]
  },
  {
   "cell_type": "code",
   "execution_count": 3,
   "id": "3a380297",
   "metadata": {
    "ExecuteTime": {
     "end_time": "2021-05-26T00:27:36.454418Z",
     "start_time": "2021-05-26T00:27:36.445927Z"
    }
   },
   "outputs": [
    {
     "data": {
      "text/plain": [
       "range"
      ]
     },
     "execution_count": 3,
     "metadata": {},
     "output_type": "execute_result"
    }
   ],
   "source": [
    "list_data=range(10)\n",
    "type(list_data)"
   ]
  },
  {
   "cell_type": "code",
   "execution_count": 5,
   "id": "ba5aba9a",
   "metadata": {
    "ExecuteTime": {
     "end_time": "2021-05-26T00:31:00.367963Z",
     "start_time": "2021-05-26T00:31:00.361981Z"
    }
   },
   "outputs": [
    {
     "name": "stdout",
     "output_type": "stream",
     "text": [
      "[2, 4, 6, 8, 10]\n"
     ]
    }
   ],
   "source": [
    "list_data=[]\n",
    "for i in range(1,11):\n",
    "    if i%2==0:\n",
    "        list_data.append(i)\n",
    "print(list_data)"
   ]
  },
  {
   "cell_type": "code",
   "execution_count": 12,
   "id": "7c69cd2f",
   "metadata": {
    "ExecuteTime": {
     "end_time": "2021-05-26T00:51:34.425501Z",
     "start_time": "2021-05-26T00:51:34.416526Z"
    }
   },
   "outputs": [
    {
     "data": {
      "text/plain": [
       "2"
      ]
     },
     "execution_count": 12,
     "metadata": {},
     "output_type": "execute_result"
    }
   ],
   "source": [
    "a=[3,8,5,9,2]\n",
    "a[-1]"
   ]
  },
  {
   "cell_type": "markdown",
   "id": "69cf755a",
   "metadata": {},
   "source": [
    "## 리스트의 인덱싱과 슬라이싱\n",
    "\n",
    "```\n",
    ">>> a = [1, 2, 3, ['a', 'b', 'c']]\n",
    "```\n",
    "\n",
    "다음 예를 따라 해 보자.\n",
    "\n",
    "```python\n",
    ">>> a[0]\n",
    "1\n",
    ">>> a[-1]\n",
    "['a', 'b', 'c']\n",
    ">>> a[3]\n",
    "['a', 'b', 'c']\n",
    "```\n",
    "\n",
    "**[삼중 리스트에서 인덱싱하기]**\n",
    "\n",
    "조금 복잡하지만 다음 예를 따라 해 보자.\n",
    "\n",
    "```\n",
    ">>> a = [1, 2, ['a', 'b', ['Life', 'is']]]\n",
    "```\n",
    "\n",
    "리스트 a 안에 ['a', 'b', ['Life', 'is']] 리스트가 포함되어 있고, 그 리스트 안에 다시 ['Life', 'is'] 리스트가 포함되어 있다. 삼중 구조의 리스트이다.\n",
    "\n",
    "이 경우 'Life' 문자열만 끄집어내려면 다음과 같이 해야 한다.\n",
    "\n",
    "```python\n",
    ">>> a[2][2][0]\n",
    "'Life'\n",
    "```\n",
    "\n",
    "### 리스트의 슬라이싱\n",
    "\n",
    "문자열과 마찬가지로 리스트에서도 슬라이싱 기법을 적용할 수 있다. 슬라이싱은 ‘나눈다’는 뜻이라고 했다.\n",
    "\n",
    "자, 그럼 리스트의 슬라이싱에 대해서 살펴보자.\n",
    "\n",
    "```python\n",
    ">>> a = [1, 2, 3, 4, 5]\n",
    ">>> a[0:2]\n",
    "[1, 2]\n",
    "```\n",
    "\n"
   ]
  },
  {
   "cell_type": "code",
   "execution_count": 13,
   "id": "804e2c78",
   "metadata": {
    "ExecuteTime": {
     "end_time": "2021-05-26T01:58:33.146019Z",
     "start_time": "2021-05-26T01:58:33.119091Z"
    }
   },
   "outputs": [
    {
     "data": {
      "text/plain": [
       "['d', 'o', 'b', 'c', 'a']"
      ]
     },
     "execution_count": 13,
     "metadata": {},
     "output_type": "execute_result"
    }
   ],
   "source": [
    "a = ['a', 'c', 'b','o','d']\n",
    "a.reverse()\n",
    "a"
   ]
  },
  {
   "cell_type": "code",
   "execution_count": null,
   "id": "78d787a5",
   "metadata": {},
   "outputs": [],
   "source": []
  }
 ],
 "metadata": {
  "hide_input": false,
  "kernelspec": {
   "display_name": "Python 3",
   "language": "python",
   "name": "python3"
  },
  "language_info": {
   "codemirror_mode": {
    "name": "ipython",
    "version": 3
   },
   "file_extension": ".py",
   "mimetype": "text/x-python",
   "name": "python",
   "nbconvert_exporter": "python",
   "pygments_lexer": "ipython3",
   "version": "3.7.9"
  },
  "toc": {
   "base_numbering": 1,
   "nav_menu": {},
   "number_sections": true,
   "sideBar": true,
   "skip_h1_title": false,
   "title_cell": "Table of Contents",
   "title_sidebar": "Contents",
   "toc_cell": false,
   "toc_position": {},
   "toc_section_display": true,
   "toc_window_display": false
  },
  "varInspector": {
   "cols": {
    "lenName": 16,
    "lenType": 16,
    "lenVar": 40
   },
   "kernels_config": {
    "python": {
     "delete_cmd_postfix": "",
     "delete_cmd_prefix": "del ",
     "library": "var_list.py",
     "varRefreshCmd": "print(var_dic_list())"
    },
    "r": {
     "delete_cmd_postfix": ") ",
     "delete_cmd_prefix": "rm(",
     "library": "var_list.r",
     "varRefreshCmd": "cat(var_dic_list()) "
    }
   },
   "types_to_exclude": [
    "module",
    "function",
    "builtin_function_or_method",
    "instance",
    "_Feature"
   ],
   "window_display": false
  }
 },
 "nbformat": 4,
 "nbformat_minor": 5
}
